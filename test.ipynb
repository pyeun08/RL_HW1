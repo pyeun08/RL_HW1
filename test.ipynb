{
 "cells": [
  {
   "cell_type": "code",
   "execution_count": 1,
   "id": "150881b2",
   "metadata": {
    "scrolled": true
   },
   "outputs": [
    {
     "name": "stderr",
     "output_type": "stream",
     "text": [
      "\n"
     ]
    }
   ],
   "source": [
    "import numpy as np\n",
    "import pandas as pd\n",
    "import random\n",
    "from collections import defaultdict\n",
    "import gym\n",
    "import gym_minigrid\n",
    "import matplotlib.pyplot as plt\n",
    "%matplotlib inline"
   ]
  },
  {
   "cell_type": "code",
   "execution_count": null,
   "id": "43dd8ccc",
   "metadata": {},
   "outputs": [],
   "source": [
    "def plot_policy_arrows(q_table, grid_size=6):\n",
    "    action_to_arrow = ['turn left  ', 'turn right ', 'go straight']\n",
    "    policy = [[\"\" for _ in range(grid_size)] for _ in range(grid_size)]\n",
    "\n",
    "    for state, q_vals in q_table.items():\n",
    "        state //= 3\n",
    "        x = state % grid_size\n",
    "        y = state // grid_size\n",
    "\n",
    "        best_action = np.argmax(q_vals)\n",
    "        policy[y][x] = action_to_arrow[best_action]\n",
    "    \n",
    "    policy[grid_size - 1][grid_size - 1] = 'Terminal'\n",
    "\n",
    "    for row in policy:\n",
    "        print(\" \".join(row))\n",
    "\n",
    "def plot_rewards(rewards_q, rewards_s, window=100):\n",
    "    avg_q = np.convolve(rewards_q, np.ones(window)/window, mode='valid')\n",
    "    avg_s = np.convolve(rewards_s, np.ones(window)/window, mode='valid')\n",
    "\n",
    "    plt.figure(figsize=(10, 5))\n",
    "    plt.plot(avg_q, label=\"Q-learning\", color='blue')\n",
    "    plt.plot(avg_s, label=\"SARSA\", color='green')\n",
    "    plt.xlabel(\"Episode\")\n",
    "    plt.ylabel(f\"Moving Avg Reward ({window})\")\n",
    "    plt.title(\"Q-learning vs Sarsa\")\n",
    "    plt.legend()\n",
    "    plt.grid(True)\n",
    "    plt.tight_layout()\n",
    "    plt.show()\n",
    "\n",
    "def Summary_of_experimental_settings(num_iter, alpha):\n",
    "    params = {\n",
    "        'Agent': ['Q-learning', 'SARSA'],\n",
    "        'Alpha (Learning rate)': [alpha, alpha],\n",
    "        'Gamma (Discount factor)': [0.9, 0.9],\n",
    "        'Epsilon (Exploration)': ['Decreased from 1.0 to 0.05', 'Decreased from 1.0 to 0.05'],\n",
    "        'Environment': ['MiniGrid-Empty-6x6-v0', 'MiniGrid-Empty-6x6-v0'],\n",
    "        'Episodes': [num_iter, num_iter]\n",
    "    }\n",
    "\n",
    "    df = pd.DataFrame(params)\n",
    "    print(\"Experimental Settings\")\n",
    "    print(df.to_markdown(index=False))  # 깔끔한 콘솔 출력\n"
   ]
  },
  {
   "cell_type": "code",
   "execution_count": 3,
   "id": "bb3475c0",
   "metadata": {
    "scrolled": true
   },
   "outputs": [],
   "source": [
    "alpha = 0.1\n",
    "epsilon_init = 0.2\n",
    "min_epsilon = 0.2\n",
    "epsilon_descent = 1\n",
    "\n",
    "class QLearning:\n",
    "    def __init__(self, actions, agent_indicator=10):\n",
    "        self.actions = actions\n",
    "        self.agent_indicator = agent_indicator\n",
    "        self.alpha = alpha\n",
    "        self.gamma = 0.9\n",
    "        self.epsilon = epsilon_init\n",
    "        self.q_values = defaultdict(lambda: [0.0] * actions)\n",
    "        \n",
    "    def _convert_state(self, s):\n",
    "        return np.where(s == self.agent_indicator)[0][0]\n",
    "        \n",
    "    def update(self, state, action, reward, next_state):\n",
    "        state = self._convert_state(state)\n",
    "        next_state = self._convert_state(next_state)\n",
    "        next_action = np.argmax(self.q_values[next_state])\n",
    "        \n",
    "        q_value = self.q_values[state][action]\n",
    "        \n",
    "        next_q_value = self.q_values[next_state][next_action]\n",
    "        \n",
    "        td_error = reward + self.gamma * next_q_value - q_value\n",
    "        self.q_values[state][action] = q_value + self.alpha * td_error\n",
    "        if np.mean(list(self.q_values.values())) > 0:\n",
    "            self.epsilon = max(min_epsilon, self.epsilon * epsilon_descent)\n",
    "\n",
    "    def act(self, state):\n",
    "        if np.random.rand() < self.epsilon:\n",
    "            action = random.randint(0, self.actions - 1)\n",
    "        else:\n",
    "            state = self._convert_state(state)\n",
    "            q_values = self.q_values[state]\n",
    "            action = np.argmax(q_values)\n",
    "            action = 1\n",
    "\n",
    "        return action\n",
    "\n",
    "class Sarsa:\n",
    "    def __init__(self, actions, agent_indicator=10):\n",
    "        self.actions = actions\n",
    "        self.agent_indicator = agent_indicator\n",
    "        self.alpha = alpha\n",
    "        self.gamma = 0.9\n",
    "        self.epsilon = epsilon_init\n",
    "        self.q_values = defaultdict(lambda: [0.0] * actions)\n",
    "        \n",
    "    def _convert_state(self, s):\n",
    "        return np.where(s == self.agent_indicator)[0][0]\n",
    "        \n",
    "    def update(self, state, action, reward, next_state, next_action):\n",
    "        state = self._convert_state(state)\n",
    "        next_state = self._convert_state(next_state)\n",
    "        \n",
    "        q_value = self.q_values[state][action]\n",
    "        \n",
    "        next_q_value = self.q_values[next_state][next_action]\n",
    "        \n",
    "        td_error = reward + self.gamma * next_q_value - q_value\n",
    "        self.q_values[state][action] = q_value + self.alpha * td_error\n",
    "        if np.mean(list(self.q_values.values())) > 0:\n",
    "            self.epsilon = max(min_epsilon, self.epsilon * epsilon_descent)\n",
    "\n",
    "    def act(self, state):\n",
    "        if np.random.rand() < self.epsilon:\n",
    "            action = random.randint(0, self.actions - 1)\n",
    "        else:\n",
    "            state = self._convert_state(state)\n",
    "            q_values = self.q_values[state]\n",
    "            action = np.argmax(q_values)\n",
    "            action = 1\n",
    "\n",
    "        return action"
   ]
  },
  {
   "cell_type": "code",
   "execution_count": 4,
   "id": "90706d6e",
   "metadata": {
    "scrolled": true
   },
   "outputs": [],
   "source": [
    "from utils import gen_wrapped_env, show_video"
   ]
  },
  {
   "cell_type": "code",
   "execution_count": 5,
   "id": "d048dbff",
   "metadata": {
    "scrolled": true
   },
   "outputs": [],
   "source": [
    "env_q = gen_wrapped_env('MiniGrid-Empty-6x6-v0')\n",
    "env_s = gen_wrapped_env('MiniGrid-Empty-6x6-v0')\n",
    "\n",
    "# env = gen_wrapped_env('MiniGrid-DoorKey-5x5-v0')\n",
    "\n",
    "obs_q = env_q.reset()\n",
    "obs_s = env_s.reset()\n",
    "\n",
    "agent_q_position = obs_q[0]\n",
    "agent_s_position = obs_s[0]\n",
    "\n",
    "agent_q = QLearning(3, agent_q_position)\n",
    "agent_s = Sarsa(3, agent_s_position)"
   ]
  },
  {
   "cell_type": "code",
   "execution_count": 6,
   "id": "f7e8c55c",
   "metadata": {
    "scrolled": true
   },
   "outputs": [],
   "source": [
    "rewards_q = []\n",
    "rewards_s = []\n",
    "num_iter = 20\n",
    "\n",
    "for ep in range(num_iter):\n",
    "    done_q = False\n",
    "    obs_q = env_q.reset()\n",
    "    action_q = agent_q.act(obs_q)\n",
    "\n",
    "    done_s = False\n",
    "    obs_s = env_s.reset()\n",
    "    action_s = agent_s.act(obs_s)\n",
    "    \n",
    "    ep_rewards_q = 0\n",
    "    ep_rewards_s = 0\n",
    "\n",
    "    while not done_q or not done_s:\n",
    "        if not done_q:\n",
    "            next_obs_q, reward_q, done_q, _ = env_q.step(action_q)\n",
    "\n",
    "            agent_q.update(obs_q, action_q, reward_q, next_obs_q)\n",
    "            \n",
    "            next_action_q = agent_q.act(next_obs_q)\n",
    "            \n",
    "            ep_rewards_q += reward_q\n",
    "            obs_q = next_obs_q\n",
    "            action_q = next_action_q\n",
    "\n",
    "        if not done_s:\n",
    "            next_obs_s, reward_s, done_s, _ = env_s.step(action_s)\n",
    "\n",
    "            next_action_s = agent_s.act(next_obs_s)\n",
    "\n",
    "            agent_s.update(obs_s, action_s, reward_s, next_obs_s, next_action_s)\n",
    "            \n",
    "            ep_rewards_s += reward_s\n",
    "            obs_s = next_obs_s\n",
    "            action_s = next_action_s\n",
    "    rewards_q.append(ep_rewards_q)\n",
    "    rewards_s.append(ep_rewards_s)\n",
    "    if (ep+1) % 100 == 0:\n",
    "        avg_q = np.mean(rewards_q[-100:])\n",
    "        avg_s = np.mean(rewards_s[-100:])\n",
    "        print(f\"[Episode {ep+1}] Q avg: {avg_q:.2f}, SARSA avg: {avg_s:.2f}\")\n",
    "env_q.close()\n",
    "env_s.close()"
   ]
  },
  {
   "cell_type": "code",
   "execution_count": 7,
   "id": "77e3015b",
   "metadata": {},
   "outputs": [
    {
     "data": {
      "text/html": [
       "<video alt=\"test\" autoplay \n",
       "                loop controls style=\"height: 400px;\">\n",
       "                <source src=\"data:video/mp4;base64,AAAAIGZ0eXBpc29tAAACAGlzb21pc28yYXZjMW1wNDEAAAAIZnJlZQAAIIVtZGF0AAACoAYF//+c3EXpvebZSLeWLNgg2SPu73gyNjQgLSBjb3JlIDE1OSAtIEguMjY0L01QRUctNCBBVkMgY29kZWMgLSBDb3B5bGVmdCAyMDAzLTIwMTkgLSBodHRwOi8vd3d3LnZpZGVvbGFuLm9yZy94MjY0Lmh0bWwgLSBvcHRpb25zOiBjYWJhYz0xIHJlZj0zIGRlYmxvY2s9MTowOjAgYW5hbHlzZT0weDM6MHgxMTMgbWU9aGV4IHN1Ym1lPTcgcHN5PTEgcHN5X3JkPTEuMDA6MC4wMCBtaXhlZF9yZWY9MSBtZV9yYW5nZT0xNiBjaHJvbWFfbWU9MSB0cmVsbGlzPTEgOHg4ZGN0PTEgY3FtPTAgZGVhZHpvbmU9MjEsMTEgZmFzdF9wc2tpcD0xIGNocm9tYV9xcF9vZmZzZXQ9LTIgdGhyZWFkcz02IGxvb2thaGVhZF90aHJlYWRzPTEgc2xpY2VkX3RocmVhZHM9MCBucj0wIGRlY2ltYXRlPTEgaW50ZXJsYWNlZD0wIGJsdXJheV9jb21wYXQ9MCBjb25zdHJhaW5lZF9pbnRyYT0wIGJmcmFtZXM9MyBiX3B5cmFtaWQ9MiBiX2FkYXB0PTEgYl9iaWFzPTAgZGlyZWN0PTEgd2VpZ2h0Yj0xIG9wZW5fZ29wPTAgd2VpZ2h0cD0yIGtleWludD0yNTAga2V5aW50X21pbj0xMCBzY2VuZWN1dD00MCBpbnRyYV9yZWZyZXNoPTAgcmNfbG9va2FoZWFkPTQwIHJjPWNyZiBtYnRyZWU9MSBjcmY9MjMuMCBxY29tcD0wLjYwIHFwbWluPTAgcXBtYXg9NjkgcXBzdGVwPTQgaXBfcmF0aW89MS40MCBhcT0xOjEuMDAAgAAAAj1liIQAEf/+94gfMsmNfq13IR560urR9Q7kZxXuFWiceag0Mo2oYqyfP9dE6HwArBP/ih5aaY8ES4IHiLwajBpcuqI6C9M8yiu3e6ClkODmaPa6jizSDxQ1AMxQx9VN0ppCfHW9QnDTvL5wUV9AIbf08gIPZcTwQtXoc7zVnAYY6vPMj0/aZ6Pwg6Geu5Fi5BxVup9iYXNuRalq0MJQKtSEGlqvfBq/J3VPSoOVdmqH5ps0uxpZ/bn0Vs6pXCqn9YnFAx46bAlHfc492XoX8FBFopyD9C2I6Z3XJ/viUhxEHfs5Sy77ho1nYxYJlnxEeHWAJQ0eY2mLxLUlj7nP7BFbaQ/+ITeMRJQBZzlmz3XHEquQLBStc0PUzswAB+62dD/9OoGRQWjx0B8g+vluIXs/X8CLxY60xRwfepQoF6ugLrUlQmdpEFI7Xwl1jaGBxsJ97s/2zddF6OYtTR92vhMDi7zK8qX/RnhgjZ3Jq//u6yuFQAOdVCPFQH+Z8QicO2guw4NroFIuUENL6JGO7ba2saWg24tlMq9WEjHdttJzPY4VYE+wCvZeMsgIBFUn/H5ZEQKneT92qlqRuxQxw7FNdep5sT77zidkguYljHOUe73y6FVzBkvxc1fKf/XMqcrp5zCeH81C2VFmnPvduTm3MBFUn/H5Wf0nmjhb6JL08JQrFhSsFa6ke+Pxck4VvPYUebrKuCHjJ79QYSQ4SYCDEPFo3F/gXgmjFoDFZBrOF+71NDY5mBdmYGvhGZcAAADIQZokbEEf/rUqiH5HxXs+Tp6ADcdYuKHrmWLLc2YFkvD70d+ixJWrwRVASFKUXp7HTRKVJbQKOhXKNIiuFICyr5/q6+ltNgVhfV9ozkALB3lnIEgwFT9SfXk+itlZIW69a27YjnkT7Wi54B7IaHensb3Qyu9kWTw3l1LDKPNdOKnWHWVTD53OwmSHBlYOqcdCQnP99WwpY8fC1oltoYjYwArKxA3UmNH8+FsqDwEsv1g2zOHY854RcuH+IumumTM49I7xvJRchJAAAADKQZ5CeId/Aa6kimPkk7uAG7IMHhcJykiUizMNIDZGRtMb5t98zO0oFKQrc8hfoDzc2tTVq7TdHCHpJj6hyYRzAYalZ3mJxgAj47LOXJFHwNf60eCeayZ6sVuK1GV5JgurIdAtcF78fhV9fngh7/9cR5eMnOllxEq++XubQ1uIQ01Q87bAvPstfo1/dyZYjx/Z2RlXQWiHqm1gOqrZ+J+UZVbzN+WX1FBucUuO79cDa93iCs9hEfDMQyfrV9/QKECu174zuVhFOWIQ4QAAALEBnmF0Q38CUEHNViOBdmgAnb0HpaM3e//y0+lfZ0swSfJOzKfdEj4SWHoPVw+9LoFP/iK/tcQp3oy1gWq3xs0pEI8edQSof6QIn1/D8IfF0ENOK1Os36etVyFSDqAkEYGCSYw3wBTPPuJ6UvJLQHZbUIU+TN7j8ChlOSItxETFjINGPxg7DC3/0ECkkFFglVj61otelNf/xShvZBGo+R1c1KBhuiezpvr3GSMbPJvKe0AAAAAPAZ5jakN/Amz6AiaQGbm5AAAA5UGaaEmoQWiZTAgj//61KohpJnM7gBW/cSaiGqFW66W//hGz7i1aNv2s8cvSR61WgiWxyvQSqpGDwl9HukGi0UdbNLZY96dJtALMWkxSxkFcNHP9oPZcB4Op/9esWYPIfw/5YFJKRwviqsoZimqTdb4lisnyhCP/gN1t/+rYl+lZhyF0bBaPEPBPeFJXsg/KsuF7KyXQHMIOh7CQcI9R4pzRV2ub+zlpQPIO7F4SxCsVuezfn7zUDMa/wHHMgFqmQYh4994cgRRRMfMv70drFUBdYwE6Rotv3sSbPloKzIZBkZJF8WEAAAASQZ6GRREsO/8Bx0Bt17LQd5uBAAAAtQGepXRDfwJP7fZIZdQIcAJq97BZT6H/+XJ6YHLUGUT3fpC7/8iCEdzTrtiJfV8CNAyJf639TKgebnXyNOB6QhhKmARMf3twokt83q2WaK6bMI+2mjyuJs89HFFG5qH0qqzUaPi2RFVBDZR2H609JqnklUXbMOiO+LIoaVQdvOGVn359piFxiUBlVKGSEQZf1IBb0MevDAfyUmf0YMLwoqCkuPs2NTBHzUWvazkiCdFawsD+VoEAAAC1AZ6nakN/Ak/uCIotCgQ4ATV72Cyn0P/8uT0wOWoMonu/SF3/5EEI7mnXbES+rTTaBkD6ZEIbVA3/OvuuFZ3tSSx0obLf3uWokt83q2WaK6bMI+2mjzlg88+JJyjc1D6TgZqNHxbIiqghso7D9aek1TySqLtmHRHgDPqJvUHbzeSWM/PDAIOHFX+rqCO0EGX9SAW9DHrwwH8lJn9GDC8KKgpLj7Ogkwf41HWog5IgnRR8LA/laAAAATBBmqxJqEFsmUwII//+tSqIExFsZV4BUoCf2S9OcINGPBtdsw6ie1AksNxW9HiXSOQUY+ySEk1j2qAIvLUCVP3uZZdTe9IfxghMA2OdEOHh5AOSIwzhcD+D0r19PP5Oqt2Fc/qrx7bRWFs6OBpTv9+gq23HN9x7wan6/CWyrLmqOiUv/7AKSt7Hv4AExRZxmGsm53Gp83+Im7bTP7tG34dc0lb0FTZ0GHluzipl4UsfoUPTopJtfUR03fEAS8n3KrdR0IX+5h5b7lXO7I/fT3Hj5MdH2EAZZgrIyQ3mqtKcT4j4iQFDy/m/oxF5BIZ8WonbdtWwQg0Zmx6VYdOjIwZcAGv18wpR6GM1b/oq/klNco85EVrM6TpIeAqcVKLvUsPjUD4CW7r+VmoeNP+ezG+uAAAAwEGeykUVLDv/AcdAbd/sXsjQsKO0gBLVx1VflwpNaRfu1mRl3BrTfD4CauIOn7/LPyNAKjnQHUgN5mxnJyoNMMPtHsz7PjKMB+u7LVIpHkj2U43Z4985mQtkajJ5Hx00YHKvFzaKoJsv60cJjYfck4Vwj/8lii98xV1tE6NsQ5yzS/Tu5YXaxGVVxCKoC/56rKLbzV0ObsVLxH46manqNGTZNaQAAwPlkTldTrSES6Iq9CVmsJb8tNpP1mbQo9lemwAAALoBnul0Q38Ca2s1/ofZPuWe/O1+LAB/R2rd+H1f//lp9L9KC76bp6TsgtD0IMj4SWH8HrBBolz62Xr3t+10qninrWBaYJ5jv9DxB/R2O0pP9MJdqfLTEXr5sr5YEZTN25S5CSb8TS9k5bYuQ51CJzHzFvah5A5hQNszhRRO1alifQoGWuINbjE++bJ2oyHqLzvjDsC0XIUiYGRdkc8gt5i3irQFPZi6USO1POg25JZ72ORQc2KrC6Q/YrMAAAClAZ7rakN/ALzzlKkGRABdVp1ub4xKgtc7VF5axwKF3Pkl+9bx8fahsPfZMKgFD4TqxwTe9dQ3Yj5YOCse1IW3cO4GGKrCCxqo6Ywf3YfUnLsc7L5IaumdqtN85pBGFX7Br4Y/FPc/6UJkfDDxH1B0XvTFZ1CF23dgCjdzWvRgERMC4KThDumITVYFd2IO2g+//Xs1xKiktBz+K4gEg2x08B3/JwawAAAAEkGa8EmoQWyZTAgj//61KoADGwAAABJBnw5FFSw7/wCEUp4NMhb+WSkAAAC0AZ8tdEN/ALz5uRM+hGyoQAmr0HpaM3e//y0+l+lCEla5sWffYd9gMWFwO06NEugS6cxZHzqEMKda1gWrG/+YLg7TR5x0bT/7JrRj0MUn7P73p0xLyPmHq4Vuq5FfS04NZtjBbzCz/XDPSDWfCKWEkQEN0iwg1f5EfRx1fwVr+yNuk9llzaYOaIn59VApSLkRwt6tCc3rNa1kRYvVwq4VN0w1Nc1KChsaexyJWnCtMa/wRoaxAAAApwGfL2pDfwC8849qr2AgAuq063N8YlQWudqi8tY4FC7n3sVJ63j4+1DYe+yYVAKHwnVjgm7uplog5Fcfi3amjGGdub0E3kqbOqBqOmMH92H1Jy7HOy+SGrpnarTfOaQRhV+waja+/NQ/6UJkfDDxH1B0XvTFZ1CF23dgCjdzWvRgERMC4KThDumSE7kj7xDGQGbWq+mthUUloOfxXEAkG2OngO/5ODWAAAAAEkGbNEmoQWyZTAgj//61KoADGgAAABJBn1JFFSw7/wCEUp4NMhb+WSkAAAC0AZ9xdEN/ALz5uRM+hGyoQAmr0HpaM3e//y0+l+lCEla5sWffYd9gMWFwO06NEugS6cxZHzqEMKda1gWrG/+YLg7TR5x0bT/7JrRj0MUn7P73p0xLyPmHq4Vuq5FfS04NZtjBbzCz/XDPSDWfCKWEkQEN0iwg1f5EfRx1fwVr+yNuk9llzaYOaIn59VApSLkRwt6tCc3rNa1kRYvVwq4VN0w1Nc1KChsaexyJWnCtMa/wRoawAAAApwGfc2pDfwC8849qr2AgAuq063N8YlQWudqi8tY4FC7n3sVJ63j4+1DYe+yYVAKHwnVjgm7uplog5Fcfi3amjGGdub0E3kqbOqBqOmMH92H1Jy7HOy+SGrpnarTfOaQRhV+waja+/NQ/6UJkfDDxH1B0XvTFZ1CF23dgCjdzWvRgERMC4KThDumSE7kj7xDGQGbWq+mthUUloOfxXEAkG2OngO/5ODWAAAAAE0GbdkmoQWyZTBRMEf/+tSqAAxsAAACoAZ+VakN/ALzzmkqV7AQAXVadbm+MSoLXO1ReWscChdz72Kk9bx8fahsPfZMKgFD4TqxwTNLi2u4wDnXJawR1O95TpxTYTHZ+bdZSciK8uhoikVLcGeabWHIcP+UCqy2xifycMtDeqp5VNULytWTUgMg14jOp3QiHEr1+9CLq68EAhGfpUzyfTH900fLMrIlQoMOYBMzS0/etXtVw/sAC5YuHvAcOZTOUAAAAEkGbmknhClJlMCCP//61KoADGwAAABJBn7hFNEw7/wCETaFTJFn5tzkAAAC0AZ/XdEN/ALz5uRM+hGyoQAmr0HpaM3e//y0+l+lCEla5sWffYd9gMWFwO06NEugS6cxZHzqEMKda1gWrG/+YLg7TR5x0bT/7JrRj0MUn7P73p0xLyPmHq4Vuq5FfS04NZtjBbzCz/XDPSDWfCKWEkQEN0iwg1f5EfRx1fwVr+yNuk9llzaYOaIn59VApSLkRwt6tCc3rNa1kRYvVwq4VN0w1Nc1KChsaexyJWnCtMa/wRoawAAAApwGf2WpDfwC8849qr2AgAuq063N8YlQWudqi8tY4FC7n3sVJ63j4+1DYe+yYVAKHwnVjgm7uplog5Fcfi3amjGGdub0E3kqbOqBqOmMH92H1Jy7HOy+SGrpnarTfOaQRhV+waja+/NQ/6UJkfDDxH1B0XvTFZ1CF23dgCjdzWvRgERMC4KThDumSE7kj7xDGQGbWq+mthUUloOfxXEAkG2OngO/5ODWBAAAAEkGb3kmoQWiZTAgj//61KoADGgAAABJBn/xFESw7/wCEUp4NMhb+WSkAAAC0AZ4bdEN/ALz5uRM+hGyoQAmr0HpaM3e//y0+l+lCEla5sWffYd9gMWFwO06NEugS6cxZHzqEMKda1gWrG/+YLg7TR5x0bT/7JrRj0MUn7P73p0xLyPmHq4Vuq5FfS04NZtjBbzCz/XDPSDWfCKWEkQEN0iwg1f5EfRx1fwVr+yNuk9llzaYOaIn59VApSLkRwt6tCc3rNa1kRYvVwq4VN0w1Nc1KChsaexyJWnCtMa/wRoaxAAAApwGeHWpDfwC8849qr2AgAuq063N8YlQWudqi8tY4FC7n3sVJ63j4+1DYe+yYVAKHwnVjgm7uplog5Fcfi3amjGGdub0E3kqbOqBqOmMH92H1Jy7HOy+SGrpnarTfOaQRhV+waja+/NQ/6UJkfDDxH1B0XvTFZ1CF23dgCjdzWvRgERMC4KThDumSE7kj7xDGQGbWq+mthUUloOfxXEAkG2OngO/5ODWAAAAA3UGaAkmoQWyZTAgj//61KoA1+xY24KAPyud/8MzNLQbj6GPPcTlT2jy4lcWP9M3NRP3KkhAIs+S+lJt/hlaOCqW7Oe48W8ER4stTdU/Q7BuPO1vyboBXuqoltBWw0VZUzv+bCKnqzOlz/HNYr6AnFJO1hamujDc6nsQIsxgjzlKLIh1jER6RX4wzD7inFCOiwD50sPkHgaFLdBpN885fG4kwDfojzj4ivlm1WpqBT0gHmJeukr8HEgE2sN1gxNlVGOFrBpskkC2es4d51gvuNAJMmz6afU6WTApaZ1z/AAAAwkGeIEUVLDv/AIQ5JuA6P5E9QAiD08C3h9X//5YwJZyoGl1E8lzsmiYaDherSsVb7fZSI7UiPv5Gza2gwT65Xxb4QRPqQHVXXvSyeiwK3w5QsD/BzKsLww5y06i6cvMryfvDSACa54zTyIWxn22LC5mzfPDm2CTOQe3HRy72YI3XQbxsvHoSG+l1mN6Pr42JyXZzSsvZ7kKGDglUdrZQO8j1WOkIg/vB+kIzFq5/eC9qwJkNbLF/06xCj3iEX/hnIGjBAAAAtgGeX3RDfwC8+bkTPnWIQAmr0HpaM3e//y0+l+lCEla5sWffYd9gMWHDU0GHwBQJdOYsj51CGFOtawLVjf/MFwdpo846Np/9k1ox6GKT9n9706fRMj55zsI1quRX0tODWbYwW8ws/1wz0g1nwilhJEBDdIo9PH7ShyRPouWFAbL/uyy5tMHNET8+qgUpFyvfSVqAw4UkZvzfqu+aWsXQsLrmpQUNjT2ORK04VpjX+CKup3MQWFVQAAAAswGeQWpDfwBmhngudwAXVcEAVKF0AXMQKo7yJCMME2/q72Xj68KcEB1XTBU/IB/iompAWXbvEy+9GufULgKk3FcmYre/eyc+T5KMZDbS2Ti+YS8I/OWm4Sbg3NhgX0kAw6d5/tzCXYW5MyHfptW7CaTvw8fzD6ObraJbkbs+J9Po2ZEUNaZevHtOE1lGn/qAAIopLjd4GQ06QC/ZmPmQvwJpUJvFwd4OmB25zUuSVvXoKVCBAAAAE0GaREmoQWyZTBRMEf/+tSqAAxoAAACwAZ5jakN/AGV/iM5p8eAEtXBAFShdAFzXWUK7WCSokbZz8vIU3Nr/oby8YlXvPcGAmSl3LNWz+S1DHUKRrl4V72lW3KC+9xoO/ZG3/fiNg3blRDtFKworoJbhfXnhwHRAX9zAQuibJmQ78DpKgevRZ94SND64omhM8NfU9PUcIYkEnNi27uzxoCDAagChwAuBy5hwznEwXMK4uiK//fGHCoLom75v24OPSFtx5SeWyEkAAADiQZpoSeEKUmUwII///rUqgBKQR0wtaku0vAB1H3RXW/PDYAGcdYt9D4YRRhewa/o6gJlSrep4SZDQyIuBt7a4MQYWLS/GRZYSsdIZYrzaDhmGGzN7jUQxP3xhNuvT9/K5VhMt0VfuwSmTujrLHlR07To3tfvfFogIvntPOeqdJWF+S4ZGGEBG3FNXNvgjRxT47BxuavbbK2Tj8YEvBci8JdRtXp0a9bsgObylFpsAl7kZdmSfOwrGr8vsnLLcLonLJyY0y2t/bpq7glF3EBqFDRzos5tcTqxzOfXd99cTTO1rgQAAABRBnoZFNEw7/wBIHJNl2lNP721P7QAAALoBnqV0Q38AZX+GHnXiXYIAJ297BZT6H/+XJ6YHLQckQ2Z3nFafoMmumNPSHQfavgBVgj5OIbZGE3ffoYN5ipFwYU7tH9PLyYNKuGGEVdSCKaKYGOxpNNxoB8UkKVHFz9GYwMQZJxZVtBkz2xR7hVDmig8hx1EhEY89SqsrxWNdwLf2tZj8rNTiYzwUIJUpDLoyPmVoIQkUAojnvwwH7ZIZYVM7FKR1jQwCtW7d32ZL4gWssq9X2PUV9i0AAACzAZ6nakN/AGBxAQW0v6COUIATV6D0tGbvf/5afSvZM+vuQudmU+6JHwksPQerh96XQKf/EV/a4hTvRlrAtVvjZpUL2N7HaUn37GGwK0f/lXWQIrap/oK1AboBY6rkKkHUBIIwMEkxhvgCmefcT0peSWklmT4VHTxpfE2PSDWtz1HFjINGPxg7DC3/0ECk9zcOTjPhvKEfZedGBHqTyoFSkv1eWdSgYbonscig5xkjGv8EmYYAAADTQZqsSahBaJlMCCH//qpVAFzVWAALquExtdxJ4BEABPwrCllFdXkfnyx+DuMQtXFW3QZChMnxjBp2BLy6N0COmBvuvYckUH3/iGlZ0tqFTPtcifqvefzp9JWArY/uwTk2lYjq3TtXIKbsKhw3fIbbwM5OPXWODRy9Hb9GptbbSWD2EYQc7JFWGzv7Czkv9NDEjVNTjX4lfz2p1RugxbGfbNdBElPss5chFv8pP+0w8YPrJD5KduJRKPcIxUbCq+foK5dW1R+aYBghenclQtyQ00jdkwAAALdBnspFESw7/wB8/7ukzLHDync5+6ADuVss/J7hJQyRLJnQHg750MAXUlnMNXOo0BlSI/d9b5oRPP0VP6/L4ENtFrw7vcb8qJgX7vHzCL/67DMt4icmeBt71EpBn1zC9mQRa+Sj3SFyJ/2LhEVqJ1c8ToLiv3IR4ENxW+Jhvra+pObfeMgIG7cRE8aogl6QpcwLNwbnNBCYufciRnMxnX/qyRZ7ADhvHrN+UbXh43QV4PfeF3oF61EAAAC0AZ7pdEN/AGB0kEAGIkQwUaACdvQelozd7//LT6V7Jn19yFzsyn3RI+Elh6D1cPvS6BT/4iv7XEKd6MtYFqt8bNKhexvY7Sk+/Yw2BWj/8q6yBFbVP9BWoDdALHVchUg6gJBGBgkmMN8AUzz7ielLyS0ksyfCo6eNL4mx6Qa1ueo4sZBox+MHYYW/+ggUnubhycZ8N5Qj7LzowI9SeVAqUl+ryzqUDDdE9jkUHOMkY1/gkzDAAAAAsQGe62pDfwC2PPkjTgoI4+fAC3rTunE8S5bpXe8KmPLSR5P/MfswRsEj+wIHBkNh7l2J8IyD0sFzaTz0Rny9qYhuGKU8rBozi/FsOZITGtf64YCdkYaYipVWqI1cZCfl2w0rTfooplZvhzEVSIapLRpKjSiF9WIuBnEMgqVI5mk/Py9RIDOzcYifdkASQzbGogMwxuhkvMUIE7x5wgSrj6TgKdKfMAjiAVS+h4//ovIVmAAAABJBmvBJqEFsmUwIf//+qZYAGDEAAAC1QZ8ORRUsO/8Ae4x3eg2YcIANqtcGMjN3v/+Wn0r1eIq4Zln0mEqgyPhJdeg9YIWsugZrwemcX0a88UTSrbSI+biKcP3Via8uyac/ywaEhjiV5I6JaH6zAi+AGDlGFxUl7VvicCyhbnmbSZa2aUmNld5ePpg6lqTPVnZGxc9snzpwFfQYf7I/ZRpbQEL8lJI/8fDx0KfD+om1NSqvI6bxgxfe9oykaT7QWYTIWtdZhzwskQeR7wAAALIBny10Q38As9Z7QCUcAHPMF+AE1e9gsp9D//Lk9MDloMX0asFpaJOZEadD87s1abnxlYhtdHl2f+NwqhXExaSo/p8tRJb76ihv9qUpCwfgCQHHw5mwm+OsImbGep+RqlwACv7BsM7/pwiK0A1wYv0f+bd71qqvohNF/8tRXejw5Dbb/Roht4sbXI75KVqNbZDTuRRHPfhgP2uUxnuxG2X/Mr9WhDWqhPl76nric+PubTOxAAAArwGfL2pDfwCz3EvhdmR+AEtXBAFSexITXQxhwkS4eV+4ECTk0O8XG4ERw037GKhxP13XfyZe9Gq0enzqFJ3Lzle9n2zaeY49sk1bimBqA/Iz0O0UrCiugluF9eeHAdEBf3MBC7dzLyh3fHBPfMmqbE8MppbiiaEzw19T09RwhiQSc2Lbu7Oo3+x2zkMAAJOIuHkIVmvD/fHF0RX/74w4VBdE3fN+3Bx6QtuPKTy2HuAAAAAaQZsySahBbJlMFEw3//6nhAK0yWfu85+brCAAAAC4AZ9RakN/ALPWehTbK+5DtwQATt72Cyn0P/8uT0wOWoTok97s/5DsXRGmbJj+/EKQi7WE+AsV8vD/0S2c8nohcMf0RhzhvR11VsG2S3MLCUc+KO4dmW7+7EKbAMxPrJduhKlVjfLgFaPUIiu86c0mOvm9gNwajqw7pd/6o2/eEOLKdmylJDqx7aS8TOD3VBeNPS4DNsevDAhh7dmYPgAtarSxbCrXc/6utlNxc6Lpe60NdNqn8yUTsQAABXVtb292AAAAbG12aGQAAAAAAAAAAAAAAAAAAAPoAAAT7AABAAABAAAAAAAAAAAAAAAAAQAAAAAAAAAAAAAAAAAAAAEAAAAAAAAAAAAAAAAAAEAAAAAAAAAAAAAAAAAAAAAAAAAAAAAAAAAAAAAAAAACAAAEn3RyYWsAAABcdGtoZAAAAAMAAAAAAAAAAAAAAAEAAAAAAAAT7AAAAAAAAAAAAAAAAAAAAAAAAQAAAAAAAAAAAAAAAAAAAAEAAAAAAAAAAAAAAAAAAEAAAAAAwAAAAMAAAAAAACRlZHRzAAAAHGVsc3QAAAAAAAAAAQAAE+wAAAgAAAEAAAAABBdtZGlhAAAAIG1kaGQAAAAAAAAAAAAAAAAAACgAAADMAFXEAAAAAAAtaGRscgAAAAAAAAAAdmlkZQAAAAAAAAAAAAAAAFZpZGVvSGFuZGxlcgAAAAPCbWluZgAAABR2bWhkAAAAAQAAAAAAAAAAAAAAJGRpbmYAAAAcZHJlZgAAAAAAAAABAAAADHVybCAAAAABAAADgnN0YmwAAACWc3RzZAAAAAAAAAABAAAAhmF2YzEAAAAAAAAAAQAAAAAAAAAAAAAAAAAAAAAAwADAAEgAAABIAAAAAAAAAAEAAAAAAAAAAAAAAAAAAAAAAAAAAAAAAAAAAAAAAAAAAAAY//8AAAAwYXZjQwFkAAv/4QAXZ2QAC6zZQwZoQAAAAwBAAAAFA8UKZYABAAZo6+PLIsAAAAAYc3R0cwAAAAAAAAABAAAAMwAABAAAAAAUc3RzcwAAAAAAAAABAAAAAQAAAahjdHRzAAAAAAAAADMAAAABAAAIAAAAAAEAABQAAAAAAQAACAAAAAABAAAAAAAAAAEAAAQAAAAAAQAAFAAAAAABAAAIAAAAAAEAAAAAAAAAAQAABAAAAAABAAAUAAAAAAEAAAgAAAAAAQAAAAAAAAABAAAEAAAAAAEAABQAAAAAAQAACAAAAAABAAAAAAAAAAEAAAQAAAAAAQAAFAAAAAABAAAIAAAAAAEAAAAAAAAAAQAABAAAAAABAAAMAAAAAAEAAAQAAAAAAQAAFAAAAAABAAAIAAAAAAEAAAAAAAAAAQAABAAAAAABAAAUAAAAAAEAAAgAAAAAAQAAAAAAAAABAAAEAAAAAAEAABQAAAAAAQAACAAAAAABAAAAAAAAAAEAAAQAAAAAAQAADAAAAAABAAAEAAAAAAEAABQAAAAAAQAACAAAAAABAAAAAAAAAAEAAAQAAAAAAQAAFAAAAAABAAAIAAAAAAEAAAAAAAAAAQAABAAAAAABAAAUAAAAAAEAAAgAAAAAAQAAAAAAAAABAAAEAAAAAAEAAAwAAAAAAQAABAAAAAAcc3RzYwAAAAAAAAABAAAAAQAAADMAAAABAAAA4HN0c3oAAAAAAAAAAAAAADMAAATlAAAAzAAAAM4AAAC1AAAAEwAAAOkAAAAWAAAAuQAAALkAAAE0AAAAxAAAAL4AAACpAAAAFgAAABYAAAC4AAAAqwAAABYAAAAWAAAAuAAAAKsAAAAXAAAArAAAABYAAAAWAAAAuAAAAKsAAAAWAAAAFgAAALgAAACrAAAA4QAAAMYAAAC6AAAAtwAAABcAAAC0AAAA5gAAABgAAAC+AAAAtwAAANcAAAC7AAAAuAAAALUAAAAWAAAAuQAAALYAAACzAAAAHgAAALwAAAAUc3RjbwAAAAAAAAABAAAAMAAAAGJ1ZHRhAAAAWm1ldGEAAAAAAAAAIWhkbHIAAAAAAAAAAG1kaXJhcHBsAAAAAAAAAAAAAAAALWlsc3QAAAAlqXRvbwAAAB1kYXRhAAAAAQAAAABMYXZmNTguMjkuMTAw\" type=\"video/mp4\" />\n",
       "             </video>"
      ],
      "text/plain": [
       "<IPython.core.display.HTML object>"
      ]
     },
     "metadata": {},
     "output_type": "display_data"
    }
   ],
   "source": [
    "show_video()"
   ]
  },
  {
   "cell_type": "code",
   "execution_count": 8,
   "id": "42787cff",
   "metadata": {},
   "outputs": [],
   "source": [
    "pd.Series(rewards_q).to_csv('./logs/rewards_qlearning.csv')\n",
    "pd.Series(rewards_s).to_csv('./logs/rewards_sarsa.csv')"
   ]
  },
  {
   "cell_type": "code",
   "execution_count": 9,
   "id": "da141489",
   "metadata": {},
   "outputs": [],
   "source": [
    "sarsa_logs = pd.read_csv('./logs/rewards_sarsa.csv', index_col=False).iloc[:, 1]\n",
    "q_logs = pd.read_csv('./logs/rewards_qlearning.csv', index_col=False).iloc[:, 1]"
   ]
  },
  {
   "cell_type": "code",
   "execution_count": 10,
   "id": "f1b67acf",
   "metadata": {},
   "outputs": [
    {
     "name": "stdout",
     "output_type": "stream",
     "text": [
      "Experimental Settings\n",
      "| Agent      |   Alpha (Learning rate) |   Gamma (Discount factor) | Epsilon (Exploration)      | Environment           |   Episodes |\n",
      "|:-----------|------------------------:|--------------------------:|:---------------------------|:----------------------|-----------:|\n",
      "| Q-learning |                     0.1 |                       0.9 | Decreased from 1.0 to 0.05 | MiniGrid-Empty-6x6-v0 |         20 |\n",
      "| SARSA      |                     0.1 |                       0.9 | Decreased from 1.0 to 0.05 | MiniGrid-Empty-6x6-v0 |         20 |\n"
     ]
    }
   ],
   "source": [
    "Summary_of_experimental_settings(num_iter, alpha)"
   ]
  },
  {
   "cell_type": "code",
   "execution_count": 11,
   "id": "43dc92ab",
   "metadata": {},
   "outputs": [
    {
     "data": {
      "image/png": "[encoded data removed]",
      "text/plain": [
       "<Figure size 1600x800 with 1 Axes>"
      ]
     },
     "metadata": {},
     "output_type": "display_data"
    }
   ],
   "source": [
    "plt.figure(figsize=(16, 8))\n",
    "plt.plot(q_logs.cumsum() / (pd.Series(np.arange(q_logs.shape[0]))+1), label=\"QLearning\")\n",
    "plt.plot(sarsa_logs.cumsum() / (pd.Series(np.arange(sarsa_logs.shape[0]))+1), label=\"SARSA\")\n",
    "plt.legend()\n",
    "plt.show()"
   ]
  },
  {
   "cell_type": "code",
   "execution_count": 12,
   "id": "dcd0aa58",
   "metadata": {},
   "outputs": [
    {
     "name": "stdout",
     "output_type": "stream",
     "text": [
      "Q-learning\n",
      "turn left   turn left   turn left   turn left  \n",
      "turn left   turn left    \n",
      "turn left     \n",
      "turn left   turn left    \n",
      "Sarsa\n",
      "turn left   turn left   turn left   \n",
      "turn left   turn left   turn left   \n",
      "turn left   turn left    \n",
      "turn left   turn left    \n"
     ]
    }
   ],
   "source": [
    "print('Q-learning')\n",
    "plot_policy_arrows(agent_q.q_values, grid_size=4)\n",
    "print('Sarsa')\n",
    "plot_policy_arrows(agent_s.q_values, grid_size=4)"
   ]
  },
  {
   "cell_type": "code",
   "execution_count": 13,
   "id": "7995aa20",
   "metadata": {},
   "outputs": [
    {
     "data": {
      "image/png": "[encoded data removed]",
      "text/plain": [
       "<Figure size 1000x500 with 1 Axes>"
      ]
     },
     "metadata": {},
     "output_type": "display_data"
    }
   ],
   "source": [
    "plot_rewards(rewards_q, rewards_s, window=500)"
   ]
  },
  {
   "cell_type": "code",
   "execution_count": 14,
   "id": "b4c39b1a",
   "metadata": {},
   "outputs": [
    {
     "name": "stdout",
     "output_type": "stream",
     "text": [
      "[0.0, 0.0, 0.0]\n",
      "[0.0, 0.0, 0.0]\n",
      "[0.0, 0.0, 0.0]\n",
      "[0.0, 0.0, 0.0]\n",
      "[0.0, 0.0, 0.0]\n",
      "[0.0, 0.0, 0.0]\n",
      "[0.0, 0.0, 0.0]\n",
      "[0.0, 0.0, 0.0]\n",
      "[0.0, 0.0, 0.0]\n"
     ]
    }
   ],
   "source": [
    "for qv in list(sorted(agent_q.q_values.items())):\n",
    "    print(str(qv[1]))"
   ]
  }
 ],
 "metadata": {
  "kernelspec": {
   "display_name": "Python (rl_env)",
   "language": "python",
   "name": "rl_env"
  },
  "language_info": {
   "codemirror_mode": {
    "name": "ipython",
    "version": 3
   },
   "file_extension": ".py",
   "mimetype": "text/x-python",
   "name": "python",
   "nbconvert_exporter": "python",
   "pygments_lexer": "ipython3",
   "version": "3.10.16"
  }
 },
 "nbformat": 4,
 "nbformat_minor": 5
}
